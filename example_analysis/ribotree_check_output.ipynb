{
 "cells": [
  {
   "cell_type": "markdown",
   "id": "bae35ced",
   "metadata": {},
   "source": [
    "## Jupyter Notebook for checking the ribotree output metrics with fresh calculated metrics\n",
    "\n",
    "Do Soon Kim, Stanford University\n",
    "2021\n",
    "\n",
    "**TO DO**:\n",
    "- Make sure paths below are filled in with paths pointing to installations for the packages. \n",
    "*DSK had to specify path for arniefile, might be something with my miniconda or my new machine -- was not needed on my old computer.\n",
    "\n",
    "**NEED**:\n",
    "- arnie\n",
    "- RiboGraphViz\n",
    "- DegScore\n",
    "- ribotree-mrna"
   ]
  },
  {
   "cell_type": "code",
   "execution_count": 1,
   "id": "eb9a3959",
   "metadata": {},
   "outputs": [],
   "source": [
    "#display all output in jupyter notebook\n",
    "from IPython.core.interactiveshell import InteractiveShell\n",
    "InteractiveShell.ast_node_interactivity = \"all\"\n",
    "\n",
    "#appending arnie to path\n",
    "import sys, os\n",
    "arnie_path = '/Users/dosoon/secstruct_software/'\n",
    "sys.path.append(arnie_path)\n",
    "# also setting the environment for arniefile\n",
    "os.environ['ARNIEFILE'] = \"/Users/dosoon/secstruct_software/arnie/arnie.arnie.txt\"\n",
    "\n",
    "#import mfe package from arnie, degscore, RGV, and calc_cai\n",
    "sys.path.append('/Users/dosoon/secstruct_software/DegScore')\n",
    "sys.path.append('/Users/dosoon/secstruct_software/RiboGraphViz/')\n",
    "sys.path.append('/Users/dosoon/secstruct_software/ribotree-mrna/')\n",
    "from arnie.mfe import mfe\n",
    "from arnie.bpps import bpps\n",
    "from DegScore import DegScore\n",
    "from utils_features import calc_cai\n",
    "from RiboGraphViz.RiboGraphViz import RiboGraphViz as RGV\n",
    "\n",
    "#importing other packages for plotting\n",
    "import pandas as pd \n",
    "import matplotlib.pyplot as plt\n",
    "import seaborn as sns\n",
    "import numpy as np"
   ]
  },
  {
   "cell_type": "code",
   "execution_count": 2,
   "id": "8b9eed94",
   "metadata": {},
   "outputs": [],
   "source": [
    "#reading in example output file, replace with desired file\n",
    "data = pd.read_csv('orig.20210625-125737-23679.RUNNING_BEST.txt', sep='\\t')"
   ]
  },
  {
   "cell_type": "markdown",
   "id": "2cf6795f",
   "metadata": {},
   "source": [
    "### Calculating fresh metrics from sequence and reported structure to double check Ribotree outputs"
   ]
  },
  {
   "cell_type": "code",
   "execution_count": 119,
   "id": "d6f73859",
   "metadata": {},
   "outputs": [],
   "source": [
    "#quick function to take structure and return MLD\n",
    "def return_MLD(struct):\n",
    "    rg_mdl = RGV(struct)\n",
    "    rg_mdl.run_structure_properties()\n",
    "    return rg_mdl.MLD"
   ]
  },
  {
   "cell_type": "markdown",
   "id": "f1c8af55",
   "metadata": {},
   "source": [
    "#### Wrapped the recalculation steps into a function "
   ]
  },
  {
   "cell_type": "code",
   "execution_count": 13,
   "id": "5261e85e",
   "metadata": {},
   "outputs": [],
   "source": [
    "# input is a dataframe, returns a dataframe with new columns containing calculated metrics\n",
    "def doublecheck_output(data):\n",
    "    if ('full_sequence' in list(data.columns)):\n",
    "        #updating dG(MFE) and structure with fresh calcs\n",
    "        data[['MFE Structure_reproduce','dG(MFE)_reproduce']] = data.apply(lambda row: mfe(row['full_sequence'], package='eternafold',return_dG_MFE = True, linear=True), axis=1,result_type='expand')\n",
    "        #and now also DegScore\n",
    "        #note that the fresh calculated structure is used\n",
    "        data['DegScore_reproduce'] = data.apply(lambda row: DegScore(sequence = row['full_sequence'], structure=row['MFE Structure_reproduce']).degscore, axis=1, result_type='expand')\n",
    "        # AUP (Average Unpaired probability) calculation\n",
    "        data['AUP_reproduce'] = data.apply(lambda row: np.mean(1 - np.sum(bpps(row['full_sequence'], package='eternafold', linear=True), axis=1)), axis=1)\n",
    "        data['AUP_init14_reproduce'] = data.apply(lambda row: np.mean((1 - np.sum(bpps(row['full_sequence'], package='eternafold',linear=True), axis=1))[:14]), axis=1)\n",
    "        #CAI calculation\n",
    "        data['CAI_reproduce'] = data.apply(lambda row: calc_cai(row['CDS_sequence']), axis=1, result_type='expand')\n",
    "        #and finally, MLD\n",
    "        data['MLD_reproduce'] = data.apply(lambda row: return_MLD(row['MFE Structure_reproduce']), axis=1, result_type='expand')\n",
    "    \n",
    "    # if sequence does not have full_sequence column, then piece together the full sequence using\n",
    "    # any specified UTR sequences and the CDS sequence\n",
    "    elif ('sequence' in list(data.columns) and 'c3prime' in list(data.columns) and 'c5prime' in list(data.columns)):\n",
    "        data[['MFE Structure_reproduce','dG(MFE)_reproduce']] = data.apply(lambda row: mfe(row['c5prime']+row['sequence']+row['c3prime'], package='eternafold',return_dG_MFE = True, linear=True), axis=1,result_type='expand')\n",
    "        data['DegScore_reproduce'] = data.apply(lambda row: DegScore(sequence = row['c5prime']+row['sequence']+row['c3prime'], structure=row['MFE Structure_reproduce']).degscore, axis=1, result_type='expand')\n",
    "        data['AUP_reproduce'] = data.apply(lambda row: np.mean(1 - np.sum(bpps(row['c5prime']+row['sequence']+row['c3prime'], package='eternafold', linear=True), axis=1)), axis=1)\n",
    "        data['AUP_init14_reproduce'] = data.apply(lambda row: np.mean((1 - np.sum(bpps(row['c5prime']+row['sequence']+row['c3prime'], package='eternafold',linear=True), axis=1))[:14]), axis=1)\n",
    "        data['CAI_reproduce'] = data.apply(lambda row: calc_cai(row['sequence']), axis=1, result_type='expand')\n",
    "        data['MLD_reproduce'] = data.apply(lambda row: return_MLD(row['MFE Structure_reproduce']), axis=1, result_type='expand')\n",
    "    \n",
    "    else:\n",
    "        raise Exception(\"Ribotree output file missing 'sequence', 'full_sequence', 'c5 prime', or 'c3 primer' columns.\")\n",
    "    return data"
   ]
  },
  {
   "cell_type": "code",
   "execution_count": null,
   "id": "470888b3",
   "metadata": {},
   "outputs": [],
   "source": [
    "# processing data\n",
    "checked_data = doublecheck_output(data)"
   ]
  },
  {
   "cell_type": "markdown",
   "id": "f1e1f6c5",
   "metadata": {},
   "source": [
    "### Plotting"
   ]
  },
  {
   "cell_type": "code",
   "execution_count": null,
   "id": "c86d1ef4",
   "metadata": {},
   "outputs": [],
   "source": [
    "sns.set_context('talk')\n",
    "plt.figure(figsize=(20,4))\n",
    "\n",
    "#list of metrics to examine:\n",
    "metric_list = ['DegScore', 'dG(MFE)', 'AUP','AUP_init14', 'CAI','MLD']\n",
    "\n",
    "num_plots = len(metric_list)\n",
    "n_cols = num_plots\n",
    "n_rows = 1\n",
    "\n",
    "for i,metric in enumerate(metric_list):\n",
    "    plt.subplot(n_rows, n_cols, i+1)\n",
    "    \n",
    "    #scatterplot to directly compare\n",
    "    sns.scatterplot(data=checked_data, x=metric, y=metric+'_reproduce')\n",
    "    plt.title(metric)\n",
    "    #plotting x=y line\n",
    "    xmin=checked_data[metric].min()\n",
    "    xmax=checked_data[metric].max()\n",
    "    perfect_fit = np.arange(xmin, xmax, step=(xmax-xmin)/100)\n",
    "    sns.lineplot(x=perfect_fit, y=perfect_fit, linestyle='--', color='black', linewidth=1)\n",
    "    plt.tight_layout()"
   ]
  },
  {
   "cell_type": "markdown",
   "id": "0d3ab912",
   "metadata": {},
   "source": [
    "### Printing out row by row to compare values (with decimal point precision)"
   ]
  },
  {
   "cell_type": "code",
   "execution_count": 160,
   "id": "d7748311",
   "metadata": {},
   "outputs": [
    {
     "name": "stdout",
     "output_type": "stream",
     "text": [
      "------\n",
      "------\n",
      "Checking for sequence: AUGGCUGUAUACCCUUACGACGUCCCUGAUUACGCCGGGUAUCCCUACGACGUCCCGGACUAUGCAGGCUCGUAUCCGUACGACGUUCCUGAUUAUGCGGGAUCUGGCGUUUUUACUCUGGAGGACUUCGUGGGGGACUGGCGUCAAACUGCUGGCUACAAUUUGGACCAGGUCUUAGAACAAGGAGGGGUGUCGUCGUUAUUCCAAAAUCUUGGAGUGAGCGUUACCCCAAUCCAGCGGAUAGUCCUCAGCGGCGAAAAUGGCCUUAAAAUAGACAUUCAUGUAAUAAUACCUUAUGAGGGGUUGUCUGGCGAUCAGAUGGGCCAAAUCGAGAAGAUAUUUAAAGUGGUUUAUCCUGUUGACGAUCACCACUUUAAGGUGAUCCUCCACUACGGAACACUCGUGAUCGACGGUGUAACUCCCAAUAUGAUUGACUAUUUUGGCCGCCCCUAUGAAGGGAUCGCCGUGUUCGACGGGAAAAAGAUAACAGUGACUGGAACACUGUGGAACGGGAACAAAAUUAUCGACGAAAGGCUAAUAAACCCAGACGGAUCGUUACUCUUUAGAGUCACGAUCAACGGGGUAACGGGGUGGCGAUUAUGUGAACGUAUUCUGGCUUGA\n",
      "MFE Structure matches ribotree MFE Structure: True\n",
      ".........\n",
      "Ribotree-calculated DegScore: 213.20200000000008\n",
      "Calculated DegScore: 213.20200000000006\n",
      ".........\n",
      "Ribotree-calculated dG(MFE): -111.56\n",
      "Calculated dG(MFE): -111.56\n",
      ".........\n",
      "Ribotree-calculated CAI: 0.6940789108874253\n",
      "Calculated CAI: 0.6940789108874253\n",
      ".........\n",
      "Ribotree-calculated MLD: 71\n",
      "Calculated MLD: 71\n",
      "------\n",
      "------\n",
      "Checking for sequence: AUGGCUGUGUACCCUUACGACGUCCCUGAUUACGCCGGGUAUCCCUACGACGUCCCGGACUAUGCAGGCUCGUAUCCGUACGACGUUCCGGAUUACGCGGGAUCUGGCGUUUUUACUCUGGAGGACUUCGUGGGGGACUGGCGUCAAACUGCGGGCUACAAUUUGGACCAGGUUUUAGAACAAGGAGGGGUGUCGUCGUUAUUCCAAAAUCUUGGAGUGAGCGUUACCCCAAUCCAGCGGAUAGUCCUCAGCGGCGAAAACGGCCUUAAAAUAGACAUUCAUGUAAUAAUACCGUAUGAGGGGUUGUCUGGCGAUCAGAUGGGCCAAAUCGAGAAGAUAUUUAAAGUGGUUUAUCCUGUGGACGAUCACCACUUUAAGGUGAUCCUCCACUACGGAACACUCGUGAUCGACGGGGUAACUCCCAAUAUGAUUGACUAUUUUGGCCGCCCCUAUGAAGGGAUCGCCGUGUUCGACGGGAAGAAGAUAACAGUGACGGGAACACUGUGGAACGGGAACAAAAUUAUCGACGAAAGGCUAAUAAACCCUGACGGAUCGUUACUCUUUAGAGUGACGAUCAACGGGGUAACGGGGUGGCGACUCUGUGAGCGUAUCCUGGCGUGA\n",
      "MFE Structure matches ribotree MFE Structure: True\n",
      ".........\n",
      "Ribotree-calculated DegScore: 186.56900000000007\n",
      "Calculated DegScore: 186.56900000000007\n",
      ".........\n",
      "Ribotree-calculated dG(MFE): -131.37\n",
      "Calculated dG(MFE): -131.37\n",
      ".........\n",
      "Ribotree-calculated CAI: 0.6965678096651473\n",
      "Calculated CAI: 0.6965678096651473\n",
      ".........\n",
      "Ribotree-calculated MLD: 74\n",
      "Calculated MLD: 74\n",
      "------\n",
      "------\n",
      "Checking for sequence: AUGGCAGUGUACCCUUACGACGUCCCUGAUUACGCCGGGUAUCCCUACGACGUCCCGGACUAUGCGGGUUCGUACCCGUACGACGUUCCGGAUUACGCGGGAUCUGGCGUAUUUACUCUGGAGGACUUCGUGGGGGACUGGCGUCAAACUGCGGGCUAUAACUUGGACCAGGUUUUAGAACAAGGAGGGGUGUCGUCGUUAUUCCAAAAUCUUGGAGUGAGCGUUACCCCAAUCCAGCGGAUAGUCCUCAGCGGCGAGAACGGCCUGAAGAUAGACAUUCAUGUAAUAAUACCGUAUGAGGGGUUGUCUGGCGAUCAGAUGGGCCAAAUCGAGAAGAUAUUCAAGGUGGUUUAUCCUGUGGACGAUCACCACUUCAAGGUGAUCCUCCACUACGGAACACUCGUGAUCGACGGGGUAACUCCCAAUAUGAUUGACUAUUUUGGCCGUCCCUAUGAAGGGAUCGCCGUGUUCGACGGGAAGAAGAUCACCGUGACGGGAACACUGUGGAACGGGAACAAAAUUAUCGACGAGAGGCUAAUAAACCCUGACGGAUCGUUACUCUUUAGAGUGACGAUCAACGGGGUAACGGGGUGGCGACUCUGUGAGCGUAUCCUGGCGUGA\n",
      "MFE Structure matches ribotree MFE Structure: True\n",
      ".........\n",
      "Ribotree-calculated DegScore: 178.37700000000004\n",
      "Calculated DegScore: 178.37700000000004\n",
      ".........\n",
      "Ribotree-calculated dG(MFE): -144.33\n",
      "Calculated dG(MFE): -144.33\n",
      ".........\n",
      "Ribotree-calculated CAI: 0.7006487691335012\n",
      "Calculated CAI: 0.7006487691335012\n",
      ".........\n",
      "Ribotree-calculated MLD: 74\n",
      "Calculated MLD: 74\n"
     ]
    }
   ],
   "source": [
    "for _, row in checked_data.iterrows():\n",
    "    print('------')\n",
    "    print('------')\n",
    "    print(\"Checking for sequence: %s\" %row['full_sequence'])\n",
    "    #doing MFE structure separately since no \n",
    "    print(\"MFE Structure matches ribotree MFE Structure: %s\" %str(row['MFE Structure']==row['MFE Structure_reproduce']))\n",
    "    for metric in metric_list:\n",
    "        print('.........')\n",
    "        print(\"Ribotree-calculated %s: %s\" %(metric,str(row[metric])))\n",
    "        print(\"Calculated %s: %s\" %(metric,str(row[metric+'_reproduce'])))\n",
    "        "
   ]
  },
  {
   "cell_type": "code",
   "execution_count": null,
   "id": "743f50bd",
   "metadata": {},
   "outputs": [],
   "source": [
    "# optional, if they want to ouput the double checked dataframe\n",
    "# checked_data.to_csv('checked_data_filename')"
   ]
  }
 ],
 "metadata": {
  "kernelspec": {
   "display_name": "Python 3",
   "language": "python",
   "name": "python3"
  },
  "language_info": {
   "codemirror_mode": {
    "name": "ipython",
    "version": 3
   },
   "file_extension": ".py",
   "mimetype": "text/x-python",
   "name": "python",
   "nbconvert_exporter": "python",
   "pygments_lexer": "ipython3",
   "version": "3.9.1"
  }
 },
 "nbformat": 4,
 "nbformat_minor": 5
}
