{
 "cells": [
  {
   "cell_type": "code",
   "execution_count": 16,
   "id": "da6c1bf0",
   "metadata": {},
   "outputs": [
    {
     "name": "stdout",
     "output_type": "stream",
     "text": [
      "Populating the interactive namespace from numpy and matplotlib\n"
     ]
    }
   ],
   "source": [
    "%pylab inline\n",
    "import numpy as np\n",
    "import pandas as pd\n",
    "\n",
    "import seaborn as sns\n",
    "sns.set_style('ticks')\n",
    "sns.set_context('paper')\n",
    "\n",
    "#Comment out following if you don't have RiboGraphViz installed\n",
    "from RiboGraphViz import RGV\n",
    "\n",
    "from DegScore import DegScore"
   ]
  },
  {
   "cell_type": "code",
   "execution_count": 17,
   "id": "bf95ed97",
   "metadata": {},
   "outputs": [],
   "source": [
    "data = pd.read_csv('example.20210618-144823-76459.RUNNING_BEST.txt',delimiter='\\t')"
   ]
  },
  {
   "cell_type": "code",
   "execution_count": 18,
   "id": "0cece3c5",
   "metadata": {},
   "outputs": [
    {
     "name": "stdout",
     "output_type": "stream",
     "text": [
      "['sequence', 'CAI', 'AUP', 'AUP_init14', 'MFE Structure', 'dG(MFE)', 'DegScore', 'MLD', 'c5prime', 'c3prime']\n"
     ]
    }
   ],
   "source": [
    "# Quantities recorded by Ribotree during run\n",
    "\n",
    "print(list(data.keys()))"
   ]
  },
  {
   "cell_type": "code",
   "execution_count": 19,
   "id": "11834216",
   "metadata": {},
   "outputs": [
    {
     "data": {
      "text/html": [
       "<div>\n",
       "<style scoped>\n",
       "    .dataframe tbody tr th:only-of-type {\n",
       "        vertical-align: middle;\n",
       "    }\n",
       "\n",
       "    .dataframe tbody tr th {\n",
       "        vertical-align: top;\n",
       "    }\n",
       "\n",
       "    .dataframe thead th {\n",
       "        text-align: right;\n",
       "    }\n",
       "</style>\n",
       "<table border=\"1\" class=\"dataframe\">\n",
       "  <thead>\n",
       "    <tr style=\"text-align: right;\">\n",
       "      <th></th>\n",
       "      <th>sequence</th>\n",
       "      <th>CAI</th>\n",
       "      <th>AUP</th>\n",
       "      <th>AUP_init14</th>\n",
       "      <th>MFE Structure</th>\n",
       "      <th>dG(MFE)</th>\n",
       "      <th>DegScore</th>\n",
       "      <th>MLD</th>\n",
       "      <th>c5prime</th>\n",
       "      <th>c3prime</th>\n",
       "    </tr>\n",
       "  </thead>\n",
       "  <tbody>\n",
       "    <tr>\n",
       "      <th>0</th>\n",
       "      <td>AUGGGCGGUUCCGGAGGCUCUGGUUACCAACCAUAUCGGGUGGUCG...</td>\n",
       "      <td>0.663017</td>\n",
       "      <td>0.423478</td>\n",
       "      <td>0.458466</td>\n",
       "      <td>....(((((..((((((....)))).))..)))))..............</td>\n",
       "      <td>-95.9</td>\n",
       "      <td>115.606</td>\n",
       "      <td>21</td>\n",
       "      <td>ACAUUUGCUUCUGACACAACUGUGUUCACUAGCAACCUCAAACAGA...</td>\n",
       "      <td>GCUCGCUUUCUUGCUGUCCAAUUUCUAUUAAAGGUUCCUUUGUUCC...</td>\n",
       "    </tr>\n",
       "    <tr>\n",
       "      <th>1</th>\n",
       "      <td>AUGGGCGGUUCCGGAGGCUCUGGUUACCAACCAUAUAGGGUGGUCG...</td>\n",
       "      <td>0.657136</td>\n",
       "      <td>0.392939</td>\n",
       "      <td>0.456960</td>\n",
       "      <td>....(((((..((((((....)))).))..)))))..............</td>\n",
       "      <td>-103.8</td>\n",
       "      <td>108.068</td>\n",
       "      <td>46</td>\n",
       "      <td>ACAUUUGCUUCUGACACAACUGUGUUCACUAGCAACCUCAAACAGA...</td>\n",
       "      <td>GCUCGCUUUCUUGCUGUCCAAUUUCUAUUAAAGGUUCCUUUGUUCC...</td>\n",
       "    </tr>\n",
       "    <tr>\n",
       "      <th>2</th>\n",
       "      <td>AUGGGCGGUUCCGGAGGCUCUGGUUACCAACCAUAUAGGGUGGUCG...</td>\n",
       "      <td>0.657136</td>\n",
       "      <td>0.392939</td>\n",
       "      <td>0.456960</td>\n",
       "      <td>....(((((..((((((....)))).))..)))))..............</td>\n",
       "      <td>-103.8</td>\n",
       "      <td>108.068</td>\n",
       "      <td>46</td>\n",
       "      <td>ACAUUUGCUUCUGACACAACUGUGUUCACUAGCAACCUCAAACAGA...</td>\n",
       "      <td>GCUCGCUUUCUUGCUGUCCAAUUUCUAUUAAAGGUUCCUUUGUUCC...</td>\n",
       "    </tr>\n",
       "    <tr>\n",
       "      <th>3</th>\n",
       "      <td>AUGGGCGGUUCCGGAGGCUCAGGUUACCAACCAUAUAGGGUGGUCG...</td>\n",
       "      <td>0.642180</td>\n",
       "      <td>0.396820</td>\n",
       "      <td>0.457036</td>\n",
       "      <td>....(((((..((((((....)))).))..)))))..............</td>\n",
       "      <td>-101.4</td>\n",
       "      <td>107.742</td>\n",
       "      <td>64</td>\n",
       "      <td>ACAUUUGCUUCUGACACAACUGUGUUCACUAGCAACCUCAAACAGA...</td>\n",
       "      <td>GCUCGCUUUCUUGCUGUCCAAUUUCUAUUAAAGGUUCCUUUGUUCC...</td>\n",
       "    </tr>\n",
       "    <tr>\n",
       "      <th>4</th>\n",
       "      <td>AUGGGCGGCUCCGGAGGCUCAGGCUACCAACCAUACAGGGUGGUGG...</td>\n",
       "      <td>0.731696</td>\n",
       "      <td>0.386245</td>\n",
       "      <td>0.457034</td>\n",
       "      <td>....(((((..((((((....)))).))..)))))..............</td>\n",
       "      <td>-110.9</td>\n",
       "      <td>106.490</td>\n",
       "      <td>52</td>\n",
       "      <td>ACAUUUGCUUCUGACACAACUGUGUUCACUAGCAACCUCAAACAGA...</td>\n",
       "      <td>GCUCGCUUUCUUGCUGUCCAAUUUCUAUUAAAGGUUCCUUUGUUCC...</td>\n",
       "    </tr>\n",
       "  </tbody>\n",
       "</table>\n",
       "</div>"
      ],
      "text/plain": [
       "                                            sequence       CAI       AUP  \\\n",
       "0  AUGGGCGGUUCCGGAGGCUCUGGUUACCAACCAUAUCGGGUGGUCG...  0.663017  0.423478   \n",
       "1  AUGGGCGGUUCCGGAGGCUCUGGUUACCAACCAUAUAGGGUGGUCG...  0.657136  0.392939   \n",
       "2  AUGGGCGGUUCCGGAGGCUCUGGUUACCAACCAUAUAGGGUGGUCG...  0.657136  0.392939   \n",
       "3  AUGGGCGGUUCCGGAGGCUCAGGUUACCAACCAUAUAGGGUGGUCG...  0.642180  0.396820   \n",
       "4  AUGGGCGGCUCCGGAGGCUCAGGCUACCAACCAUACAGGGUGGUGG...  0.731696  0.386245   \n",
       "\n",
       "   AUP_init14                                      MFE Structure  dG(MFE)  \\\n",
       "0    0.458466  ....(((((..((((((....)))).))..)))))..............    -95.9   \n",
       "1    0.456960  ....(((((..((((((....)))).))..)))))..............   -103.8   \n",
       "2    0.456960  ....(((((..((((((....)))).))..)))))..............   -103.8   \n",
       "3    0.457036  ....(((((..((((((....)))).))..)))))..............   -101.4   \n",
       "4    0.457034  ....(((((..((((((....)))).))..)))))..............   -110.9   \n",
       "\n",
       "   DegScore  MLD                                            c5prime  \\\n",
       "0   115.606   21  ACAUUUGCUUCUGACACAACUGUGUUCACUAGCAACCUCAAACAGA...   \n",
       "1   108.068   46  ACAUUUGCUUCUGACACAACUGUGUUCACUAGCAACCUCAAACAGA...   \n",
       "2   108.068   46  ACAUUUGCUUCUGACACAACUGUGUUCACUAGCAACCUCAAACAGA...   \n",
       "3   107.742   64  ACAUUUGCUUCUGACACAACUGUGUUCACUAGCAACCUCAAACAGA...   \n",
       "4   106.490   52  ACAUUUGCUUCUGACACAACUGUGUUCACUAGCAACCUCAAACAGA...   \n",
       "\n",
       "                                             c3prime  \n",
       "0  GCUCGCUUUCUUGCUGUCCAAUUUCUAUUAAAGGUUCCUUUGUUCC...  \n",
       "1  GCUCGCUUUCUUGCUGUCCAAUUUCUAUUAAAGGUUCCUUUGUUCC...  \n",
       "2  GCUCGCUUUCUUGCUGUCCAAUUUCUAUUAAAGGUUCCUUUGUUCC...  \n",
       "3  GCUCGCUUUCUUGCUGUCCAAUUUCUAUUAAAGGUUCCUUUGUUCC...  \n",
       "4  GCUCGCUUUCUUGCUGUCCAAUUUCUAUUAAAGGUUCCUUUGUUCC...  "
      ]
     },
     "execution_count": 19,
     "metadata": {},
     "output_type": "execute_result"
    }
   ],
   "source": [
    "data.head()"
   ]
  },
  {
   "cell_type": "code",
   "execution_count": 20,
   "id": "68c12706",
   "metadata": {},
   "outputs": [
    {
     "data": {
      "text/plain": [
       "Text(0.5, 0, 'Iteration')"
      ]
     },
     "execution_count": 20,
     "metadata": {},
     "output_type": "execute_result"
    },
    {
     "data": {
      "image/png": "[encoded data removed]",
      "text/plain": [
       "<Figure size 432x288 with 1 Axes>"
      ]
     },
     "metadata": {},
     "output_type": "display_data"
    }
   ],
   "source": [
    "# Monitor decrease in degscore\n",
    "plot(data.DegScore)\n",
    "ylabel('DegScore')\n",
    "xlabel('Iteration')"
   ]
  },
  {
   "cell_type": "code",
   "execution_count": 21,
   "id": "c8308a5b",
   "metadata": {},
   "outputs": [
    {
     "data": {
      "text/plain": [
       "Text(0, 0.5, 'dG(MFE) (kcal/mol)')"
      ]
     },
     "execution_count": 21,
     "metadata": {},
     "output_type": "execute_result"
    },
    {
     "data": {
      "image/png": "[encoded data removed]",
      "text/plain": [
       "<Figure size 432x288 with 1 Axes>"
      ]
     },
     "metadata": {},
     "output_type": "display_data"
    }
   ],
   "source": [
    "# compare quantities\n",
    "scatter(data.DegScore, data['dG(MFE)'])\n",
    "xlabel('DegScore')\n",
    "ylabel('dG(MFE) (kcal/mol)')"
   ]
  },
  {
   "cell_type": "code",
   "execution_count": 22,
   "id": "62722e67",
   "metadata": {},
   "outputs": [
    {
     "data": {
      "image/png": "[encoded data removed]",
      "text/plain": [
       "<Figure size 720x720 with 1 Axes>"
      ]
     },
     "metadata": {},
     "output_type": "display_data"
    }
   ],
   "source": [
    "#visualize final structure with RiboGraphViz\n",
    "\n",
    "sequence = data.iloc[-1]['c5prime']+data.iloc[-1]['sequence']+data.iloc[-1]['c3prime']\n",
    "structure = data.iloc[-1]['MFE Structure']\n",
    "rgv_object = RGV(structure)\n",
    "\n",
    "# need to re-compute DegScore, as vector of predictions is not saved\n",
    "mdl = DegScore(sequence, structure)\n",
    "degscore_vector = mdl.degscore_by_position\n",
    "\n",
    "figure(figsize=(10,10))\n",
    "rgv_object.draw(c=degscore_vector)\n",
    "\n",
    "savefig('example_DegScore_run.png',dpi=300, bbox_inches='tight')"
   ]
  },
  {
   "cell_type": "code",
   "execution_count": null,
   "id": "0a440327",
   "metadata": {},
   "outputs": [],
   "source": []
  }
 ],
 "metadata": {
  "kernelspec": {
   "display_name": "Python 3",
   "language": "python",
   "name": "python3"
  },
  "language_info": {
   "codemirror_mode": {
    "name": "ipython",
    "version": 3
   },
   "file_extension": ".py",
   "mimetype": "text/x-python",
   "name": "python",
   "nbconvert_exporter": "python",
   "pygments_lexer": "ipython3",
   "version": "3.8.5"
  }
 },
 "nbformat": 4,
 "nbformat_minor": 5
}
