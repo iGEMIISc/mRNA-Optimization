{
 "cells": [
  {
   "cell_type": "code",
   "execution_count": 8,
   "id": "8c73ce58",
   "metadata": {},
   "outputs": [
    {
     "name": "stdout",
     "output_type": "stream",
     "text": [
      "Populating the interactive namespace from numpy and matplotlib\n"
     ]
    }
   ],
   "source": [
    "%pylab inline\n",
    "import numpy as np\n",
    "import pandas as pd\n",
    "\n",
    "import seaborn as sns\n",
    "sns.set_style('ticks')\n",
    "sns.set_context('paper')\n",
    "\n",
    "#Comment out following if you don't have RiboGraphViz installed\n",
    "from RiboGraphViz import RGV\n",
    "\n",
    "#Comment out following if you don't have DegScore installed\n",
    "from DegScore import DegScore"
   ]
  },
  {
   "cell_type": "code",
   "execution_count": 4,
   "id": "815234dd",
   "metadata": {},
   "outputs": [],
   "source": [
    "data = pd.read_csv('example.20210618-144823-76459.RUNNING_BEST.txt.RUNNING_BEST.txt',delimiter='\\t')"
   ]
  },
  {
   "cell_type": "code",
   "execution_count": 18,
   "id": "f7678276",
   "metadata": {},
   "outputs": [
    {
     "name": "stdout",
     "output_type": "stream",
     "text": [
      "['sequence', 'CAI', 'AUP', 'AUP_init14', 'MFE Structure', 'dG(MFE)', 'DegScore', 'MLD', 'c5prime', 'c3prime']\n"
     ]
    }
   ],
   "source": [
    "# Quantities recorded by Ribotree during run\n",
    "\n",
    "print(list(data.keys()))"
   ]
  },
  {
   "cell_type": "code",
   "execution_count": null,
   "id": "eb46ef6c",
   "metadata": {},
   "outputs": [],
   "source": [
    "# Visualize pandas dataframe object\n",
    "\n",
    "data.head()"
   ]
  },
  {
   "cell_type": "code",
   "execution_count": 20,
   "id": "49acef72",
   "metadata": {},
   "outputs": [
    {
     "data": {
      "text/plain": [
       "Text(0.5, 0, 'Iteration')"
      ]
     },
     "execution_count": 20,
     "metadata": {},
     "output_type": "execute_result"
    },
    {
     "data": {
      "image/png": "[encoded data removed]",
      "text/plain": [
       "<Figure size 432x288 with 1 Axes>"
      ]
     },
     "metadata": {},
     "output_type": "display_data"
    }
   ],
   "source": [
    "# Monitor decrease in degscore\n",
    "plot(data.DegScore)\n",
    "ylabel('DegScore')\n",
    "xlabel('Iteration')"
   ]
  },
  {
   "cell_type": "code",
   "execution_count": 21,
   "id": "41befaac",
   "metadata": {},
   "outputs": [
    {
     "data": {
      "text/plain": [
       "Text(0, 0.5, 'dG(MFE) (kcal/mol)')"
      ]
     },
     "execution_count": 21,
     "metadata": {},
     "output_type": "execute_result"
    },
    {
     "data": {
      "image/png": "[encoded data removed]",
      "text/plain": [
       "<Figure size 432x288 with 1 Axes>"
      ]
     },
     "metadata": {},
     "output_type": "display_data"
    }
   ],
   "source": [
    "# compare quantities\n",
    "scatter(data.DegScore, data['dG(MFE)'])\n",
    "xlabel('DegScore')\n",
    "ylabel('dG(MFE) (kcal/mol)')"
   ]
  },
  {
   "cell_type": "markdown",
   "id": "f38acbd9",
   "metadata": {},
   "source": [
    "## Visualize final structure for runs not including UTRs (Nanoluciferase) with RiboGraphViz"
   ]
  },
  {
   "cell_type": "code",
   "execution_count": null,
   "id": "bc8b8e53",
   "metadata": {},
   "outputs": [],
   "source": [
    "sequence = data.iloc[-1]['sequence']\n",
    "structure = data.iloc[-1]['MFE Structure']\n",
    "rgv_object = RGV(structure)\n",
    "\n",
    "# need to re-compute DegScore, as vector of predictions is not saved\n",
    "mdl = DegScore(sequence, structure)\n",
    "degscore_vector = mdl.degscore_by_position\n",
    "\n",
    "figure(figsize=(10,10))\n",
    "rgv_object.draw(c=degscore_vector)\n",
    "\n",
    "# To save figure:\n",
    "#savefig('example_DegScore_run.png',dpi=300, bbox_inches='tight')"
   ]
  },
  {
   "cell_type": "markdown",
   "id": "7823fd49",
   "metadata": {},
   "source": [
    "## Visualize final structure for runs that did include UTRs (VSV-G) with RiboGraphViz"
   ]
  },
  {
   "cell_type": "code",
   "execution_count": null,
   "id": "88a76ab0",
   "metadata": {},
   "outputs": [],
   "source": [
    "sequence = data.iloc[-1]['c5prime']+data.iloc[-1]['sequence']+data.iloc[-1]['c3prime']\n",
    "structure = data.iloc[-1]['MFE Structure']\n",
    "rgv_object = RGV(structure)\n",
    "\n",
    "# need to re-compute DegScore, as vector of predictions is not saved\n",
    "mdl = DegScore(sequence, structure)\n",
    "degscore_vector = mdl.degscore_by_position\n",
    "\n",
    "figure(figsize=(10,10))\n",
    "rgv_object.draw(c=degscore_vector)\n",
    "\n",
    "#To save figure\n",
    "#savefig('example_DegScore_run.png',dpi=300, bbox_inches='tight')"
   ]
  },
  {
   "cell_type": "code",
   "execution_count": null,
   "id": "d3097474",
   "metadata": {},
   "outputs": [],
   "source": []
  }
 ],
 "metadata": {
  "kernelspec": {
   "display_name": "Python 3",
   "language": "python",
   "name": "python3"
  },
  "language_info": {
   "codemirror_mode": {
    "name": "ipython",
    "version": 3
   },
   "file_extension": ".py",
   "mimetype": "text/x-python",
   "name": "python",
   "nbconvert_exporter": "python",
   "pygments_lexer": "ipython3",
   "version": "3.7.3"
  }
 },
 "nbformat": 4,
 "nbformat_minor": 5
}
